{
 "cells": [
  {
   "cell_type": "markdown",
   "metadata": {},
   "source": [
    "In the following notebook I explore code optimization with [Numba](http://numba.pydata.org/numba-doc/latest/index.html). Have a look at the documentation page for further details."
   ]
  },
  {
   "cell_type": "code",
   "execution_count": 1,
   "metadata": {
    "ExecuteTime": {
     "end_time": "2018-01-19T13:19:17.034824Z",
     "start_time": "2018-01-19T13:19:16.810736Z"
    },
    "collapsed": true
   },
   "outputs": [],
   "source": [
    "import numba as nb\n",
    "import numpy as np\n",
    "import pyfftw"
   ]
  },
  {
   "cell_type": "markdown",
   "metadata": {},
   "source": [
    "Toggle this option {'0', '1'} to enable or disable the JIT compilation entirely. The `jit()` decorator acts as if it performs no operation, and the invocation of decorated functions calls the original Python function instead of a compiled version. This can be useful if you want to run the Python debugger over your code."
   ]
  },
  {
   "cell_type": "code",
   "execution_count": 2,
   "metadata": {
    "ExecuteTime": {
     "end_time": "2018-01-19T13:19:19.236232Z",
     "start_time": "2018-01-19T13:19:19.210491Z"
    }
   },
   "outputs": [],
   "source": [
    "# os.environ['NUMBA_DISABLE_JIT'] = '1'"
   ]
  },
  {
   "cell_type": "markdown",
   "metadata": {},
   "source": [
    "In order to test the performance improvement achieved by the jit compiler we are going to sum over all element of a 2D array in a nested for loop."
   ]
  },
  {
   "cell_type": "code",
   "execution_count": 3,
   "metadata": {
    "ExecuteTime": {
     "end_time": "2018-01-19T13:19:20.916028Z",
     "start_time": "2018-01-19T13:19:20.866545Z"
    },
    "collapsed": true
   },
   "outputs": [],
   "source": [
    "size = int(1e3)\n",
    "a = np.random.randint(-10, 10, (size, size))"
   ]
  },
  {
   "cell_type": "markdown",
   "metadata": {},
   "source": [
    "This is the python implementation of the function we are going to optimize and its performance:"
   ]
  },
  {
   "cell_type": "code",
   "execution_count": 4,
   "metadata": {
    "ExecuteTime": {
     "end_time": "2018-01-19T13:19:22.403444Z",
     "start_time": "2018-01-19T13:19:22.378538Z"
    },
    "cell_style": "split",
    "collapsed": true
   },
   "outputs": [],
   "source": [
    "def sum2d_python(arr):\n",
    "    M, N = arr.shape\n",
    "    result = 0.0\n",
    "    for i in range(M):\n",
    "        for j in range(N):\n",
    "            result += arr[i, j]\n",
    "    return result"
   ]
  },
  {
   "cell_type": "code",
   "execution_count": 5,
   "metadata": {
    "ExecuteTime": {
     "end_time": "2018-01-19T13:19:30.896015Z",
     "start_time": "2018-01-19T13:19:23.554623Z"
    },
    "cell_style": "split"
   },
   "outputs": [
    {
     "name": "stdout",
     "output_type": "stream",
     "text": [
      "10 loops, best of 3: 177 ms per loop\n"
     ]
    }
   ],
   "source": [
    "%%timeit\n",
    "sum2d_python(a)"
   ]
  },
  {
   "cell_type": "markdown",
   "metadata": {},
   "source": [
    "With the jit() (*Just In Time*) compiler, pure Python code is optimized using the LLVM compiler infrastructure. The `@jit` decorator tells Numba to compile the following function. The argument types will be inferred by Numba when the function is called."
   ]
  },
  {
   "cell_type": "code",
   "execution_count": 6,
   "metadata": {
    "ExecuteTime": {
     "end_time": "2018-01-19T13:19:38.100842Z",
     "start_time": "2018-01-19T13:19:38.050884Z"
    },
    "cell_style": "split",
    "collapsed": true
   },
   "outputs": [],
   "source": [
    "@nb.jit\n",
    "def sum2d_serial(arr):\n",
    "    M, N = arr.shape\n",
    "    result = 0.0\n",
    "    for i in range(M):\n",
    "        for j in range(N):\n",
    "            result += arr[i, j]\n",
    "    return result"
   ]
  },
  {
   "cell_type": "code",
   "execution_count": 7,
   "metadata": {
    "ExecuteTime": {
     "end_time": "2018-01-19T13:19:44.905879Z",
     "start_time": "2018-01-19T13:19:39.218825Z"
    },
    "cell_style": "split"
   },
   "outputs": [
    {
     "name": "stdout",
     "output_type": "stream",
     "text": [
      "The slowest run took 96.84 times longer than the fastest. This could mean that an intermediate result is being cached.\n",
      "1000 loops, best of 3: 1.29 ms per loop\n"
     ]
    }
   ],
   "source": [
    "%%timeit\n",
    "sum2d_serial(a)"
   ]
  },
  {
   "cell_type": "markdown",
   "metadata": {},
   "source": [
    "Note that with the optimized function, there is a performance boost by a factor of more than **X130** (177 ms / 1.29 ms). Also note that the function is compiled on the first run (*just-in-time*) so there is an overhead (`The slowest run took 96.84 times longer than the fastest.`) but the next calls are much faster because the same optimized function is reused."
   ]
  },
  {
   "cell_type": "markdown",
   "metadata": {},
   "source": [
    "We can further optimize this function if we parallelize it. Setting the parallel option for `jit()` enables a Numba feature that attempts to automatically parallelize and perform other optimizations on (part of) a function."
   ]
  },
  {
   "cell_type": "code",
   "execution_count": 8,
   "metadata": {
    "ExecuteTime": {
     "end_time": "2018-01-19T13:20:47.359161Z",
     "start_time": "2018-01-19T13:20:47.331538Z"
    },
    "cell_style": "split",
    "collapsed": true
   },
   "outputs": [],
   "source": [
    "@nb.jit(nopython=True,\n",
    "        nogil=True,\n",
    "        parallel=True)\n",
    "def sum2d_parallel(arr):\n",
    "    M, N = arr.shape\n",
    "    result = 0.0\n",
    "    for i in nb.prange(M):\n",
    "        for j in nb.prange(N):\n",
    "            result += arr[i, j]\n",
    "    return result"
   ]
  },
  {
   "cell_type": "code",
   "execution_count": 9,
   "metadata": {
    "ExecuteTime": {
     "end_time": "2018-01-19T13:20:51.034657Z",
     "start_time": "2018-01-19T13:20:50.715371Z"
    },
    "cell_style": "split"
   },
   "outputs": [
    {
     "name": "stdout",
     "output_type": "stream",
     "text": [
      "The slowest run took 679.95 times longer than the fastest. This could mean that an intermediate result is being cached.\n",
      "1 loop, best of 3: 420 µs per loop\n"
     ]
    }
   ],
   "source": [
    "%%timeit\n",
    "sum2d_parallel(a)"
   ]
  },
  {
   "cell_type": "markdown",
   "metadata": {},
   "source": [
    "Parallelizing the code boosts performance by an additional factor of **X3** (1.29 ms / 0.420 ms). Again, there is an overhead (`The slowest run took 679.95 times longer than the fastest.`) as the function is compiled on demand."
   ]
  },
  {
   "cell_type": "markdown",
   "metadata": {},
   "source": [
    "Additional optimization is achieved if the datatypes of the function's signature are predetermined. In this example `a` is a 2D array of dtype `int64` and we expect the function to return a single `int64` value."
   ]
  },
  {
   "cell_type": "code",
   "execution_count": 10,
   "metadata": {
    "ExecuteTime": {
     "end_time": "2018-01-19T13:22:09.729398Z",
     "start_time": "2018-01-19T13:22:09.195951Z"
    },
    "cell_style": "split"
   },
   "outputs": [],
   "source": [
    "sig = nb.int64(nb.int64[:, :])\n",
    "@nb.jit(sig,\n",
    "        nopython=True,\n",
    "        nogil=True,\n",
    "        parallel=True)\n",
    "def sum2d_parallel2(arr):\n",
    "    M, N = arr.shape\n",
    "    result = 0.0\n",
    "    for i in nb.prange(M):\n",
    "        for j in nb.prange(N):\n",
    "            result += arr[i, j]\n",
    "    return result\n",
    "\n",
    "\n",
    "sum2d_parallel2.recompile()"
   ]
  },
  {
   "cell_type": "code",
   "execution_count": 11,
   "metadata": {
    "ExecuteTime": {
     "end_time": "2018-01-19T13:22:12.060835Z",
     "start_time": "2018-01-19T13:22:10.987960Z"
    },
    "cell_style": "split"
   },
   "outputs": [
    {
     "name": "stdout",
     "output_type": "stream",
     "text": [
      "1000 loops, best of 3: 236 µs per loop\n"
     ]
    }
   ],
   "source": [
    "%%timeit\n",
    "sum2d_parallel2(a)"
   ]
  },
  {
   "cell_type": "markdown",
   "metadata": {},
   "source": [
    "Note that we can pre-compile the function because the datatypes are declared so the overhead is paid right after the definition of the function. Calling the function now has no additional overhead and boosts performance by an additional **X1.7** (420 $\\mu$s / 236 $\\mu$s) factor."
   ]
  },
  {
   "cell_type": "markdown",
   "metadata": {},
   "source": [
    "Comparing the results:"
   ]
  },
  {
   "cell_type": "code",
   "execution_count": 12,
   "metadata": {
    "ExecuteTime": {
     "end_time": "2018-01-19T13:27:22.998212Z",
     "start_time": "2018-01-19T13:27:22.782464Z"
    },
    "cell_style": "split"
   },
   "outputs": [
    {
     "name": "stdout",
     "output_type": "stream",
     "text": [
      "(-501399.0, -501399.0, -501399.0, -501399.0)\n"
     ]
    }
   ],
   "source": [
    "print(sum2d_python(a),\n",
    "      sum2d_serial(a),\n",
    "      sum2d_parallel(a),\n",
    "      sum2d_parallel2(a))"
   ]
  },
  {
   "cell_type": "markdown",
   "metadata": {
    "cell_style": "split"
   },
   "source": [
    "Overall performance boost: **X660**"
   ]
  }
 ],
 "metadata": {
  "kernelspec": {
   "display_name": "Python 2",
   "language": "python",
   "name": "python2"
  },
  "language_info": {
   "codemirror_mode": {
    "name": "ipython",
    "version": 2
   },
   "file_extension": ".py",
   "mimetype": "text/x-python",
   "name": "python",
   "nbconvert_exporter": "python",
   "pygments_lexer": "ipython2",
   "version": "2.7.13"
  },
  "notify_time": "30"
 },
 "nbformat": 4,
 "nbformat_minor": 2
}
